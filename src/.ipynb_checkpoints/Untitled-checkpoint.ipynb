{
 "cells": [
  {
   "cell_type": "markdown",
   "metadata": {},
   "source": [
    "# CAPSTONE PROJECT\n",
    "\n",
    "## Environment study\n",
    "\n",
    "Importing module (The need of importing the GLU module of OpenGL is a known bug in Roboschool [Issue 15](https://github.com/openai/roboschool/issues/15)). "
   ]
  },
  {
   "cell_type": "code",
   "execution_count": 1,
   "metadata": {},
   "outputs": [],
   "source": [
    "from OpenGL import GLU\n",
    "import gym, roboschool"
   ]
  },
  {
   "cell_type": "code",
   "execution_count": 2,
   "metadata": {},
   "outputs": [
    {
     "name": "stdout",
     "output_type": "stream",
     "text": [
      "\u001b[33mWARN: gym.spaces.Box autodetected dtype as <class 'numpy.float32'>. Please provide explicit dtype.\u001b[0m\n",
      "\u001b[33mWARN: gym.spaces.Box autodetected dtype as <class 'numpy.float32'>. Please provide explicit dtype.\u001b[0m\n",
      "\u001b[33mWARN: Environment '<class 'roboschool.gym_mujoco_walkers.RoboschoolHumanoid'>' has deprecated methods '_step' and '_reset' rather than 'step' and 'reset'. Compatibility code invoked. Set _gym_disable_underscore_compat = True to disable this behavior.\u001b[0m\n"
     ]
    }
   ],
   "source": [
    "env = gym.make(\"RoboschoolHumanoid-v1\")"
   ]
  },
  {
   "cell_type": "markdown",
   "metadata": {},
   "source": [
    "### Action space"
   ]
  },
  {
   "cell_type": "code",
   "execution_count": 23,
   "metadata": {},
   "outputs": [
    {
     "name": "stdout",
     "output_type": "stream",
     "text": [
      "Class: Box(17,)\n",
      "Low: [-1. -1. -1. -1. -1. -1. -1. -1. -1. -1. -1. -1. -1. -1. -1. -1. -1.]\n",
      "High: [1. 1. 1. 1. 1. 1. 1. 1. 1. 1. 1. 1. 1. 1. 1. 1. 1.]\n"
     ]
    }
   ],
   "source": [
    "print(\"Class:\", env.action_space)\n",
    "print(\"Low:\", env.action_space.low)\n",
    "print(\"High:\", env.action_space.high)"
   ]
  },
  {
   "cell_type": "markdown",
   "metadata": {},
   "source": [
    "The action space is a vector of 17 float values in the range [-1, 1]. Each value corresponds to the joints of the avatar by this order ([XML](https://github.com/openai/roboschool/blob/master/roboschool/mujoco_assets/humanoid_symmetric.xml)):\n",
    "    - abdomen_y\n",
    "    - abdomen_z\n",
    "    - abdomen_x\n",
    "    - right_hip_x\n",
    "    - right_hip_z\n",
    "    - right_hip_y\n",
    "    - right_knee\n",
    "    - left_hip_x\n",
    "    - left_hip_z\n",
    "    - left_hip_y\n",
    "    - left_knee\n",
    "    - right_shoulder1\n",
    "    - right_shoulder2\n",
    "    - right_elbow\n",
    "    - left_shoulder1\n",
    "    - left_shoulder2\n",
    "    - left_elbow\n",
    "    \n",
    "At each step, these values are applied to all the joints of the body by the code\n",
    "\n",
    "```\n",
    "for n,j in enumerate(self.ordered_joints):\n",
    "    j.set_motor_torque( self.power*j.power_coef*float(np.clip(a[n], -1, +1)) )\n",
    "```\n",
    "\n",
    "in the `apply_action` function in the class which extends the `gym.Env` class (`RoboschoolMujocoXmlEnv`) to set the torque value into the respective motor.\n",
    "\n",
    "Example:"
   ]
  },
  {
   "cell_type": "code",
   "execution_count": 28,
   "metadata": {},
   "outputs": [
    {
     "name": "stdout",
     "output_type": "stream",
     "text": [
      "[ 0.6652397   0.5563135   0.74002427  0.9572367   0.59831715 -0.07704128\n",
      "  0.56105834 -0.76345116  0.27984205 -0.71329343  0.88933784  0.04369664\n",
      " -0.17067613 -0.47088876  0.5484674  -0.08769934  0.1368679 ]\n"
     ]
    }
   ],
   "source": [
    "print(env.action_space.sample())"
   ]
  },
  {
   "cell_type": "markdown",
   "metadata": {},
   "source": [
    "### Observation space"
   ]
  },
  {
   "cell_type": "code",
   "execution_count": 29,
   "metadata": {},
   "outputs": [
    {
     "name": "stdout",
     "output_type": "stream",
     "text": [
      "Class: Box(44,)\n",
      "Low: [-inf -inf -inf -inf -inf -inf -inf -inf -inf -inf -inf -inf -inf -inf\n",
      " -inf -inf -inf -inf -inf -inf -inf -inf -inf -inf -inf -inf -inf -inf\n",
      " -inf -inf -inf -inf -inf -inf -inf -inf -inf -inf -inf -inf -inf -inf\n",
      " -inf -inf]\n",
      "High: [inf inf inf inf inf inf inf inf inf inf inf inf inf inf inf inf inf inf\n",
      " inf inf inf inf inf inf inf inf inf inf inf inf inf inf inf inf inf inf\n",
      " inf inf inf inf inf inf inf inf]\n"
     ]
    }
   ],
   "source": [
    "print(\"Class:\", env.observation_space)\n",
    "print(\"Low:\", env.observation_space.low)\n",
    "print(\"High:\", env.observation_space.high)"
   ]
  },
  {
   "cell_type": "markdown",
   "metadata": {},
   "source": [
    "The state space (or observation space) is a vector of 44 float values in the range [-5, 5] (Roboschool clip the vector with numpy before returning it in the `step` function). That vector is a concatenation of three subvectors:\n",
    "    - **more**: It is a vector of 8 values defined as follows:\n",
    "        + The distance between the last position of the body and the current one.\n",
    "        + The sinus of the angle to the target\n",
    "        + The cosinus of the angle to the target\n",
    "        + The three next values is the matrix multiplication between \n",
    "            - [\\cos(-yaw),-\\sin(-yaw), 0\n",
    "               \\sin(-yaw), \\cos(-yaw), 0\n",
    "               0,0,1]\n",
    "    - **j**: This is the current relative position of the joint described earlier and their current speed. The position is in the even position, and the speed in the odds (34 values).\n",
    "    - **feet_contact**: Boolean values, 0 or 1, for left and right feet, indicating if the respective feet is touching the ground or not.\n",
    "    \n",
    "Example:"
   ]
  },
  {
   "cell_type": "code",
   "execution_count": 36,
   "metadata": {},
   "outputs": [
    {
     "name": "stdout",
     "output_type": "stream",
     "text": [
      "(array([ 0.59813285, -0.17031229,  0.9853901 ,  0.11104988,  0.01449092,\n",
      "       -0.05820193, -0.00417273, -0.0227442 , -0.03092634, -0.67914283,\n",
      "        0.47096068,  0.6620521 , -0.1311407 ,  0.0078582 ,  0.80874825,\n",
      "       -0.01148261,  0.31290302,  1.3198036 ,  0.6585815 , -0.7413361 ,\n",
      "        1.0571133 , -0.3695094 ,  0.46139157, -0.15491089,  0.37209603,\n",
      "        0.27925783,  0.60910696, -0.7843952 ,  1.0476232 , -0.42520198,\n",
      "        0.11159533, -0.0076547 ,  0.06763905, -0.4320584 ,  0.26482782,\n",
      "       -0.8794254 , -0.16902767, -0.11050405, -0.17706816, -0.25759786,\n",
      "        0.31472877,  0.01371687,  0.        ,  0.        ], dtype=float32), -0.7064837952668311, False, {})\n"
     ]
    }
   ],
   "source": [
    "print(env.step(env.action_space.sample()))"
   ]
  },
  {
   "cell_type": "code",
   "execution_count": null,
   "metadata": {},
   "outputs": [],
   "source": []
  }
 ],
 "metadata": {
  "kernelspec": {
   "display_name": "Python 3",
   "language": "python",
   "name": "python3"
  },
  "language_info": {
   "codemirror_mode": {
    "name": "ipython",
    "version": 3
   },
   "file_extension": ".py",
   "mimetype": "text/x-python",
   "name": "python",
   "nbconvert_exporter": "python",
   "pygments_lexer": "ipython3",
   "version": "3.5.2"
  }
 },
 "nbformat": 4,
 "nbformat_minor": 2
}
